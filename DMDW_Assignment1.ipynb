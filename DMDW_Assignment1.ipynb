{
  "nbformat": 4,
  "nbformat_minor": 0,
  "metadata": {
    "colab": {
      "name": "DMDW Assignment1.ipynb",
      "provenance": [],
      "collapsed_sections": [],
      "authorship_tag": "ABX9TyPHD99rOhOyOxYb76qjyrQz",
      "include_colab_link": true
    },
    "kernelspec": {
      "name": "python3",
      "display_name": "Python 3"
    }
  },
  "cells": [
    {
      "cell_type": "markdown",
      "metadata": {
        "id": "view-in-github",
        "colab_type": "text"
      },
      "source": [
        "<a href=\"https://colab.research.google.com/github/Kaly-giet/Cse001/blob/readme-edits/DMDW_Assignment1.ipynb\" target=\"_parent\"><img src=\"https://colab.research.google.com/assets/colab-badge.svg\" alt=\"Open In Colab\"/></a>"
      ]
    },
    {
      "cell_type": "code",
      "metadata": {
        "id": "Rv49DknOUgCm"
      },
      "source": [
        ""
      ],
      "execution_count": null,
      "outputs": []
    },
    {
      "cell_type": "markdown",
      "metadata": {
        "id": "MZRKX1r2BIo7"
      },
      "source": [
        ""
      ]
    },
    {
      "cell_type": "markdown",
      "metadata": {
        "id": "1veapJkOBP0I"
      },
      "source": [
        "find Mean --Sample 1"
      ]
    },
    {
      "cell_type": "code",
      "metadata": {
        "id": "DjbK4lxqBVtC",
        "colab": {
          "base_uri": "https://localhost:8080/"
        },
        "outputId": "7c75240a-caf5-4d3e-dbf2-c16e322f9172"
      },
      "source": [
        "(4 + 8 + 6 + 5 + 3 + 2 + 8 + 9 + 2 + 5) /10\n"
      ],
      "execution_count": null,
      "outputs": [
        {
          "output_type": "execute_result",
          "data": {
            "text/plain": [
              "5.2"
            ]
          },
          "metadata": {
            "tags": []
          },
          "execution_count": 1
        }
      ]
    },
    {
      "cell_type": "markdown",
      "metadata": {
        "id": "9RFqCgVxBb7Y"
      },
      "source": [
        "mean sample--2"
      ]
    },
    {
      "cell_type": "code",
      "metadata": {
        "id": "lq2vsy9dBgbR",
        "colab": {
          "base_uri": "https://localhost:8080/"
        },
        "outputId": "8f4feed9-879b-41f2-973e-e0506b8c25e7"
      },
      "source": [
        "import statistics\n",
        "\n",
        "statistics.mean([4, 8, 6, 5, 3, 2, 8, 9, 2, 5])\n"
      ],
      "execution_count": null,
      "outputs": [
        {
          "output_type": "execute_result",
          "data": {
            "text/plain": [
              "5.2"
            ]
          },
          "metadata": {
            "tags": []
          },
          "execution_count": 2
        }
      ]
    },
    {
      "cell_type": "markdown",
      "metadata": {
        "id": "T8CbF-SWCgZf"
      },
      "source": [
        "Median Sample-1"
      ]
    },
    {
      "cell_type": "code",
      "metadata": {
        "id": "MegS5Ab2CxNj",
        "colab": {
          "base_uri": "https://localhost:8080/"
        },
        "outputId": "959238bd-583e-4864-b92c-427b385d578d"
      },
      "source": [
        "def my_median(sample):\n",
        "   n = len(sample)\n",
        "   index = n // 2\n",
        "  # Sample with an odd number of observations\n",
        "   if n % 2:\n",
        "        return sorted(sample)[index]\n",
        "  # Sample with an even number of observations\n",
        "        return sum(sorted(sample)[index - 1:index + 1]) / 2\n",
        "\n",
        "\n",
        "my_median([3, 5, 1, 4, 2])\n"
      ],
      "execution_count": null,
      "outputs": [
        {
          "output_type": "execute_result",
          "data": {
            "text/plain": [
              "3"
            ]
          },
          "metadata": {
            "tags": []
          },
          "execution_count": 3
        }
      ]
    },
    {
      "cell_type": "markdown",
      "metadata": {
        "id": "UqnY0yus8VVI"
      },
      "source": [
        "Median sample-2"
      ]
    },
    {
      "cell_type": "code",
      "metadata": {
        "id": "M_uYs4Yb8YLg",
        "colab": {
          "base_uri": "https://localhost:8080/"
        },
        "outputId": "50123c06-cfb0-45b7-9603-ddaed3dd7fbf"
      },
      "source": [
        "import statistics\n",
        "statistics.median([3, 5, 1, 4, 2])"
      ],
      "execution_count": null,
      "outputs": [
        {
          "output_type": "execute_result",
          "data": {
            "text/plain": [
              "3"
            ]
          },
          "metadata": {
            "tags": []
          },
          "execution_count": 4
        }
      ]
    },
    {
      "cell_type": "markdown",
      "metadata": {
        "id": "CLgTuh8x89aK"
      },
      "source": [
        "Mode sample-1"
      ]
    },
    {
      "cell_type": "code",
      "metadata": {
        "id": "uJGGCE_j8_sc",
        "colab": {
          "base_uri": "https://localhost:8080/"
        },
        "outputId": "a3fdeba3-b53b-4888-9cad-fd73a865b9be"
      },
      "source": [
        "from collections import Counter\n",
        "\n",
        "def my_mode(sample):\n",
        "    c = Counter(sample)\n",
        "    return [k for k, v in c.items() if v == c.most_common(1)[0][1]]\n",
        "\n",
        "\n",
        "my_mode([\"male\", \"male\", \"female\", \"male\"])"
      ],
      "execution_count": null,
      "outputs": [
        {
          "output_type": "execute_result",
          "data": {
            "text/plain": [
              "['male']"
            ]
          },
          "metadata": {
            "tags": []
          },
          "execution_count": 5
        }
      ]
    },
    {
      "cell_type": "markdown",
      "metadata": {
        "id": "NBlM35mx9XAB"
      },
      "source": [
        "Mode sample 2"
      ]
    },
    {
      "cell_type": "code",
      "metadata": {
        "id": "TC6csxu09ZJb",
        "colab": {
          "base_uri": "https://localhost:8080/"
        },
        "outputId": "b6c7c6ca-3c36-415e-917b-499cd32c8c97"
      },
      "source": [
        "import statistics\n",
        "\n",
        "statistics.mode([4, 1, 2, 2, 3, 5])"
      ],
      "execution_count": null,
      "outputs": [
        {
          "output_type": "execute_result",
          "data": {
            "text/plain": [
              "2"
            ]
          },
          "metadata": {
            "tags": []
          },
          "execution_count": 6
        }
      ]
    },
    {
      "cell_type": "markdown",
      "metadata": {
        "id": "bHYvVDaL-Xib"
      },
      "source": [
        "variance sample -1"
      ]
    },
    {
      "cell_type": "code",
      "metadata": {
        "id": "xfdgPwT0-hnY",
        "colab": {
          "base_uri": "https://localhost:8080/"
        },
        "outputId": "38b85a88-53f3-40dc-8ae4-c334a632360f"
      },
      "source": [
        "def variance(data):\n",
        "     # Number of observations\n",
        "     n = len(data)\n",
        "     # Mean of the data\n",
        "     mean = sum(data) / n\n",
        "     # Square deviations\n",
        "     deviations = [(x - mean) ** 2 for x in data]\n",
        "     # Variance\n",
        "     variance = sum(deviations) / n\n",
        "     return variance\n",
        "\n",
        "variance([4, 8, 6, 5, 3, 2, 8, 9, 2, 5])"
      ],
      "execution_count": null,
      "outputs": [
        {
          "output_type": "execute_result",
          "data": {
            "text/plain": [
              "5.76"
            ]
          },
          "metadata": {
            "tags": []
          },
          "execution_count": 7
        }
      ]
    },
    {
      "cell_type": "markdown",
      "metadata": {
        "id": "XyI2j4jt_cH9"
      },
      "source": [
        "Variance sample 2:-the statistics.pvariance() and statistics.variance() are the functions that we can use to calculate the variance"
      ]
    },
    {
      "cell_type": "code",
      "metadata": {
        "id": "dUinCdeV_iio",
        "colab": {
          "base_uri": "https://localhost:8080/"
        },
        "outputId": "ccf2e77f-dbd1-40f8-f60d-c8b9740cabef"
      },
      "source": [
        "import statistics\n",
        "\n",
        "statistics.pvariance([4, 8, 6, 5, 3, 2, 8, 9, 2, 5])"
      ],
      "execution_count": null,
      "outputs": [
        {
          "output_type": "execute_result",
          "data": {
            "text/plain": [
              "5.760000000000001"
            ]
          },
          "metadata": {
            "tags": []
          },
          "execution_count": 8
        }
      ]
    },
    {
      "cell_type": "markdown",
      "metadata": {
        "id": "buydEBC2_3qX"
      },
      "source": [
        "Standard Deviation sample-1"
      ]
    },
    {
      "cell_type": "code",
      "metadata": {
        "id": "givWeSJYAf5Q",
        "colab": {
          "base_uri": "https://localhost:8080/"
        },
        "outputId": "db8e0b77-795d-4a95-ac04-f58336975ffe"
      },
      "source": [
        "import math\n",
        "\n",
        " # We relay on our previous implementation for the variance\n",
        "def variance(data, ddof=0):\n",
        "     n = len(data)\n",
        "     mean = sum(data) / n\n",
        "     return sum((x - mean) ** 2 for x in data) / (n - ddof)\n",
        "\n",
        "def stdev(data):\n",
        "     var = variance(data)\n",
        "     std_dev = math.sqrt(var)\n",
        "     return std_dev\n",
        "\n",
        "stdev([4, 8, 6, 5, 3, 2, 8, 9, 2, 5])"
      ],
      "execution_count": null,
      "outputs": [
        {
          "output_type": "execute_result",
          "data": {
            "text/plain": [
              "2.4"
            ]
          },
          "metadata": {
            "tags": []
          },
          "execution_count": 9
        }
      ]
    },
    {
      "cell_type": "markdown",
      "metadata": {
        "id": "b1gTdYUKBgRt"
      },
      "source": [
        "Standard deviation Sample-2"
      ]
    },
    {
      "cell_type": "code",
      "metadata": {
        "id": "b61iJdUMBj_T",
        "colab": {
          "base_uri": "https://localhost:8080/"
        },
        "outputId": "e5a430ec-12b2-4968-e8e4-a8b5383c967d"
      },
      "source": [
        "import statistics\n",
        "statistics.pstdev([4, 8, 6, 5, 3, 2, 8, 9, 2, 5])"
      ],
      "execution_count": null,
      "outputs": [
        {
          "output_type": "execute_result",
          "data": {
            "text/plain": [
              "2.4000000000000004"
            ]
          },
          "metadata": {
            "tags": []
          },
          "execution_count": 11
        }
      ]
    }
  ]
}